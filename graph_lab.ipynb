{
 "cells": [
  {
   "cell_type": "markdown",
   "id": "2d65a8a5-860e-41d8-ac27-fabb65da8243",
   "metadata": {},
   "source": [
    "# Graph Lab"
   ]
  },
  {
   "cell_type": "markdown",
   "id": "0287692e-0294-4c54-8ad3-c8d8425ab85c",
   "metadata": {},
   "source": [
    "## Header information:\n",
    "\n",
    "  - Author #1: Hamna Malik (malikh32@mcmaster.ca)\n",
    "  - Author #2: Julian Cecchini (cecchinj@mcmaster.ca)\n",
    "  - Gitlab URL: http://gitlab.cas.mcmaster.ca/...\n",
    "  - Avenue to Learn group name: Group 53"
   ]
  },
  {
   "cell_type": "markdown",
   "id": "92fa39e3",
   "metadata": {},
   "source": [
    "Week 1 Justification:\n",
    "\n",
    "\n",
    "It is important that information extraction be completely separate from graphing. This is why the cvsReader was created. It can open a cvs file and then create a python dictionary to store the information. These dictionaries can then be used, but the actual implementation is isolated from this process. This enforcess the single-responsibility principle, because the cvsReaders one and only responsibility is to extract the information from the cvs files. We felt that the cvsReader shouldn’t need to inherit a class because a different cvs file will need completely new methods - it will need to be rewritten either way, and so there would be no benefit in creating the inheritance. \n",
    "\n",
    "We also have a PathListGenerator, which is a simple script where the cvs file accessing is found. The files are made into a dictionary, that can be received and analyzed by the analyzer. It is simply a single dictionary within a single line. This makes it significantly easier to change the cvs files, since all that is required it changing the cvs file paths. It is also all in one single file, so it isn’t necessary to look at or change the actual code.\n",
    "\n",
    "The attributes were made in a way to be generic and applicable to every graph that will be generated so that it does not need to be rewritten every time. Instead, all the details specific to the cvs file can be added to the attribute we have called extraInfo. This is a dictionary that can be added to or changed to best suit the data obtained. This was done deliberately because having to create a completely new node class for every different graph would be incredibly inconvenient and be a poor design. A superclass could also be a possibility but it would require rewriting parts of the node class that isn’t necessary. We have also made it so that the node has a unique attribute nodeID, allowing easy identification of each node.\n",
    "The same method was implemented with the edge class, but it has the additional attributes of uniqueValues and weight. For the weight, it would have been possible to make a separate class for this, but there is no real reason for this since we can just have the edge contain it. If we need to add another weight type (ex. Station weight), there is a changeWeight function in the edge class. The uniqueValues is another design choice we decided to implement to make accessing edges easier. Each edge is assigned a unique format of node 1 number, node 2 number, and weight all concatenated together. This way, by just getting the edge ID, we can gain information about which two nodes are being connected with this edge, and it’s weight. The uniqueValues attribute is necessary when two edges have identical node1, node2, and weights. Then, we concatenate a unique value to the end of it, to differentiate these edges. They can be used as information about the edge attribute. For example, if you want to specify one subway route has accessibility accommodations, this can be specified in the uniqueValues attribute.\n",
    "To actually initialize the nodes and edges, we have methods for collecting objects, that is responsible for assembling the nodes and edges into a graph. This also enforces the single-responsibility principle, because it’s only job is to make the graph. The graph class is responsible for the actual maintenance of the graph, but to keep it single-responsibility, we didn’t want it to also be responsible for breaking the information down from dictionaries into objects. This is instead done by the collect object method. The CollectNode method for example specifies that the nodeID is an integral attribute to the object, and then the rest of the information in the dictionary will be added to the extraInfo attribute. This way, when the cvs creates a dictionary it takes information and transfers it to the CollectNodes, where it is sorted into a node object.\n",
    "\n",
    "Once all the objects are created, they need to be created into the actual graph. We’ve implemented a Factory Pattern between UndirectedGraph and another method called graphUpdater. The graphUpdater deals with permutations and changes to the graph, as well as its initialization. UndirectedGraph manges edges, nodes, and the adjacency list. The factory pattern and implementation allow you to remove and add, and it does not matter where this information is taken from. The GraphUpdater initializes the cvsReader, and the Collectors, and then makes them work together to create a pipeline that is used to create the graph. Each time you want to update the graph, pass it into GraphUpdater and call updater().  If we want a specific graph, like tubeGraph, we can add a child tubeGraph to UndirectedGraph.Then, we also add a tubeGraphUpdater as a child of GraphUpdater. This makes the design enforce the open-closed principle because it is extendable by adding different graph types but still closed to modification, since the UndirectedGraph and GraphUpdater classes are not modified when you add a new graph type. This way you can add as many types of graphs, depending on the situation, and the graph implantation will still function. Also, normally the methofs of undirectedGraph would be private, but they were made public because we assumeed the graphs the algorithm were given would be fairly large and costly to repeatedly rebuild when trying to change nodes or edges within.\n",
    "\n",
    "Another feature we decided to add into this was for updating larger graphs after adding additional nodes. If the graph had 100 000 nodes for example, and we wanted to add another 1000, instead of updating it all, there is an updateNodes() that can be used instead, and called alone. This will just take the new nodes and add them to the large graph, thus saving time spent updating all 101 000 nodes. \n",
    "\n",
    "Separate from all the graph implementation, we also have a metric extractor call. This allows us to call all the functions within it onto specific graphs to extract specific pieces of information like the average degree and the number of nodes.\n",
    "\n",
    "For the Dijktra’s algorithm, we ran into a dilemma of not being able ot combine weights while also relaxing edges, which created an issue of being unable to quantify time along a path. Therefore, the algorithm is run with different weight prioritization and lists them all at the end for the client to select. This design choice was necessary because it is impossible to predict how much time any given customer is willing to sacrifice for fewer line transfers. Also, it seemed unnecessary to add line changes as a weighted value, as it cannot be statically defined. Instead, we made the design decision to have a wrapper on top of Dijkstra and A*, which checks for line count and returns it. This was also done instead of just adding line transfers as a heuristic for the A* algorithm because we felt that could have produced suboptimal solutions in return for overall fewer lines. Instead, we simply present the best solutions to the customer, and they can decide what they want to prioritize in their journey.\n",
    "For benchmarking, we have a KPI class with methods within it that can be called within each algorithm. It is very generic and so does not ever need to be changed. The way it works is applicable classes (like node and edge) keep track within themselves the number of times the . These classes are “KPI participant”, meaning that they have a giveKPI function. When a KPI object is made, it needs ot be given a KPI participant, and the KPI class will link the participant with  This can then be accessed within the KPI method, and combined with a calculated execution time for benchmarking.\n",
    "\n",
    "In terms of how the work was done, it usually included the two of us discussing different design options and ideas. We both would break down the problem, brainstorm ideas, and discuss how to execute it. After these decisions were made collaboratively, Julian took charge of implementing them with support from Hamna. For example, Julian wrote the shortest path algorithm, and Hamna wrote the priority queue for him to implement this. Julian was responsible for most of the algorithm coding, and once complete Hamna took charge of the UML diagram and writing the justifications of design that they discussed. Improvements and alterations throughout the project were discussed and developed together as well.\n"
   ]
  },
  {
   "cell_type": "code",
   "execution_count": null,
   "id": "96416b4c",
   "metadata": {},
   "outputs": [],
   "source": [
    "#Week 1 UML\n",
    "\n",
    "![Alt Text](\"...\\l1-graph-lab\\UML_Week1.pdf\")"
   ]
  },
  {
   "cell_type": "markdown",
   "id": "eda2f018",
   "metadata": {},
   "source": [
    "Week 2 Justification:\n",
    " \n",
    "Two new algorithms were added to the design - TSP algorithm, which provides the shortest path within a subset of nodes, while also ensuring every node is visited. For this we made the design decision to brute force this, but to make it class based to allow for different implementations if desired. This makes the design open for extension of improved designs, but closed to the modification to allow a brute force basic solution to this problem at all times. It will find all solutions and then provide only the shortest of these. This means that the shortest path can always be guaranteed. The other algorithm added was the connected components. This was done by first using DFS to find the connected components, and then Dijkstra to find the shortest path between these components. The way it works is, when given 2 nodes that have an edge between, if they are within the same island, no path is formed, because to get to one from another, no zone needs to be crossed. However, if they are not within the same island, there is a path created between them to indicate that you can access an island from a zone via this path.\n",
    " \n",
    "Some changes we made to our design are the shortestPath algorithm design. Instead of a large shortestPath class with Dijsktra and A*, we split this up and made the two children of the shortestPath class. The shortestPath class is now using an itineraryObject class. The ConnectedComponents and TSP are also using this class. The Itinerary object is where all these algorithms are used to generate and provide the desired path. By making this all more class oriented, it soft enforces the user ot use certain methods. For example, since the KPIParticipant class uses the classes, they are forced to have methods of giveKPI.\n",
    "\n",
    "THEORETICAL ANALYSIS\n",
    "\n",
    "To analyse our algorithms theoretically, the TSP uses bruteforce to calculate all permutations of n, which gives n!, so that it can then select from the path that generated the lowest time out of all of them. ComponentConnector used DFS (which is V + E), along with additional node searches along the adjacency list to help compress nodes involved with bringing together islands. It then runs a single dijkstra betwen the compressed components and the rest of the graph, which results in a VlogE (created by the priority queue). This leads to an overall complexity of VlogE + C(V + E).\n",
    "\n",
    "EMPERICAL ANLYSIS:\n",
    "\n",
    "During benchmarking we found that bruteforceTSP had a combinatorical explosion as expected and observed in the graph.\n",
    "\n",
    "componentConnector did not recieve any hard tests because there was not time to develop special graphs with known component sizes to verify it's complexity, but it never bogged the computer down for too long and has low execution times as can be seen in its test.\n",
    "\n",
    "Also to note, A* did perform marginally faster but had no significant imporvement since week 1. For A* and Dijkstra it made sense to track them with nodes checked and edges checked because that is their primary concern. It would have been harder to track something like array accesses or dictionary fetches because they are done at so many levels of our code/\n",
    "TSP was worth tracking the combonations checked because that is what mainly seperates variations fo the algorithm.\n",
    "componentConnector was a combonation of DFS and Dijkstra, making metrics of the nodes and edges seem appropriate once there were more. However, this made it harder to track because organization of the nodes was done at multiple levels (i.e., when the undirected graph objects conduct addNode, which is external to the algorithm).\n",
    "\n",
    "SOLID:\n",
    "\n",
    "As described in week 1 justification, a lot of our design enforces the single responsibility principle. Our design was made so that every class is only responsible for one thing, whether it be making the graph, maintaining the graph, getting information from the cvs files, or extracting it from the graph.\n",
    " \n",
    "We also enforce the open-close principle with the undirectedGraph and graphUpdater, as the way the graph is created is closed for modification. However, if you wanted to extend it to make it a more specific graph, you can simply add a child to these classes to extend the code.\n",
    " \n",
    "Liskov substitution principle is satisfied withe undirectedGraph factory pattern we have. If we made a child tubeGraph class of the undirectedGraph class, and instantiated the tubeGraph instead of an undirectedGraph, the entire design would still function the same.\n",
    " \n",
    "The Interface Segregation Principle is enforced with the new design change we made of the itinerary. There are times when only one algorithm needs to be used, whether dijkstra, A* or TSP. These are all not necessary to the user at all times. Therefore, by creating separate classes of these, we can ensure the program is only accessing parts of the code that it actually needs to satisfy the user.\n"
   ]
  },
  {
   "cell_type": "code",
   "execution_count": null,
   "id": "0d24e508",
   "metadata": {},
   "outputs": [],
   "source": [
    "#Week 2 UML\n",
    "\n",
    "![Alt Text](\"...\\l1-graph-lab\\UML_L1.pdf\")"
   ]
  },
  {
   "cell_type": "code",
   "execution_count": null,
   "id": "27db1de9",
   "metadata": {},
   "outputs": [],
   "source": [
    "#Coding Example\n",
    "\n",
    "def PathListGenerator():\n",
    "\n",
    "    dict={}\n",
    "    print(\"\"\"------------------------------------------------------------------------------------------------------------\"\"\")\n",
    "    print(\"This function helps develop the dictionary necessary for graphUpdator, but is unnecessary to directly use it\")\n",
    "    print(\"The format of the dictionary needed for graphUpdator that will be generated here is as follows:\")\n",
    "    print(\"{nodePath: str, edgePath: str, nodeID: str, edgeNodeLabel1: str, edgeNodeLabel2: str}\")\n",
    "    print(\"Optional Arguments: {weightLabels: list[str], uniqueValues: list[str], additionalPaths: dict[str : str] }\")\n",
    "    print(\"Please check UndirectedGraph documentation to obtain further information. \")\n",
    "    print(\"\\n\")\n",
    "    print(\"Generation shall now begin...\")\n",
    "\n",
    "    dict['nodePath']=input(\"Enter path to csv containing nodes for graph\\n\")\n",
    "    dict['edgePath']=input(\"Enter path to csv containing edges for graph\\n\")\n",
    "    dict['nodeID']=input(\"Enter label for row/column containing values that can uniquely identify nodes\\n\")\n",
    "    dict['edgeNodeLabel1']=input(\"Enter label for row/column containing values for one end of an edge\\n\")\n",
    "    dict['edgeNodeLabel2']=input(\"Enter label for row/column containing values for the other end of an edge\\n\")\n",
    "\n",
    "    print(\"Necessary values are done. Proceeding to optional arguments.\")\n",
    "    print(\"If you wish to skip over an argument, enter \\\"s\\\" \")\n",
    "\n",
    "    inp=input(\"Enter label(s) for row/column containing values for edge weights, separated by commas but no spaces\\n\")\n",
    "    dict['weightLabel']=None if inp ==\"s\" else inp.split(',')\n",
    "    inp=input(\"Enter label(s) for row/column containing values unique to edges, separated by commas but no spaces\\n\")\n",
    "    dict['uniqueValues']=[] if inp ==\"s\" else inp.split(',')\n",
    "\n",
    "    dict['additionalPaths']={}\n",
    "    print(\"Enter title of csv and corresponding paths for additional features of the graph in the following format:\")\n",
    "    inp=input(\"title/path, title/path, ...:\\n\")\n",
    "\n",
    "    if inp is not 's':\n",
    "        for pair in [tuple.split('/') for tuple in inp.split(', ')]: \n",
    "            print(pair) \n",
    "            dict['additionalPaths'][pair[0]]=pair[1]\n",
    "    \n",
    "    print(\"Dictionary has been generated, now returning\")\n",
    "    print(\"\"\"------------------------------------------------------------------------------------------------------------\"\"\")\n",
    "    return dict\n",
    "\n",
    "PathListGenerator()\n"
   ]
  },
  {
   "cell_type": "markdown",
   "id": "0add52e3",
   "metadata": {},
   "source": [
    "SLEF-REFLECTIONS:\n",
    "\n",
    "Hamna Malik (malikh32)\n",
    "\n",
    "Backward: \n",
    "\n",
    "This is lab was very unique to me as it actually allowed to apply what I have been learning in my classes for far. I have spent a lot of time just learning theories and concepts about graphs, nodes and edges, but this assignment allowed us to implement my learning into real world problems and applications. I was able to create my own algorithm to graph various scenarios, which I have previously never done. \n",
    "\n",
    "\n",
    "Inward:\n",
    "\n",
    "I would say that this assignment was on the challenging side for me, as this type of work is new to me and the instructions were difficult to follow. I struggled to understand the steps I needed to logically take. However, after some time passed, I was more familiarized with what was being asked of me. Personally, this lab was not enjoyable because it was a big leap from what I was used to, and felt very lost for the majority of the assignment. However, one aspect that I did like was making the UML diagrams because as I broke down all the classes and relationships, it was at that point that I truly started to understand the scope of the algorithm, and it’s implementation.\n",
    "\n",
    "\n",
    "Outward:\n",
    "\n",
    "I want people notice the consideration we made into making it very user friendly and also its flexibility to be applied to any graph and CVS file. It took a while and some struggle to figure out how to get ourideas into action to create a final product that I am actually proud of. The aspect of making the algorithm as universal as it can be was very meaningful to me, so I would hope that others also acknowledge the amount of thought put into the code to make this possible. \n",
    "\n",
    "\n",
    "Forward:\n",
    "\n",
    "If I could redo this assignment, I would definitely choose to change communication methods between those in my group. I had some communication barriers with my first group member (who is no longer a part of the group). There were many misunderstandings, a lot of “blameshifting”, and a lack of communication regarding ones concerns. Next time, using clear communication and attempting to tackle these concerns on our own before before bringing in the instructors is definitely something to keep in mind. Another thing I would do differently would be to reach out for help and assistance when needed, instead of trying new things and guessing over and over for hours as this is not an efficient and effective use of time. I would also change the way I managed my time, as the pace that I chose resulted in some last minute cramming which definitely induced some stress. \n",
    "\n",
    "\n",
    "\n",
    "\n",
    "Self-reflection Julian:\n",
    "Backward: I have done graph traversal algorithms for 2C03 in second year as well as navigation of graphs for machine learning models to understand propagation between layers.\n",
    "\n",
    "Inward: I loved the goal of the project. I think it made me a better software engineer towards the end. My only issue was trying to manage the work I believed was required for this project among other burdens, both academic and personal. I liked the necessity to utilize my algorithmic knowledge from the past to really get a feel for the application. I disliked having to navigate through the path issues brought forward by virtual environments, or specifically pipenv since previous virtual environments I have worked with have not brought me such issues.\n",
    "Outward I want people to notice my work is imbued with passion and thought. Even thought some work may be worse-off due to time crunches, I really do care about projects like this and thrive getting to explore different approaches to problems.\n",
    "Forward: I would get a partner off the bat, not doing so made for a rough start. I’d also scale back some of the scalability I allowed for on initial parts to save myself time for later sections. Lastly, I would spend less time worrying about the pipenv path issues and just wait for TAs to resolve that to save myself a whopping 2-days.\n",
    "\n",
    "\n",
    "\n",
    "\n",
    "\n",
    "\n",
    "\n",
    "\n"
   ]
  }
 ],
 "metadata": {
  "kernelspec": {
   "display_name": "Python 3 (ipykernel)",
   "language": "python",
   "name": "python3"
  },
  "language_info": {
   "codemirror_mode": {
    "name": "ipython",
    "version": 3
   },
   "file_extension": ".py",
   "mimetype": "text/x-python",
   "name": "python",
   "nbconvert_exporter": "python",
   "pygments_lexer": "ipython3",
   "version": "3.10.7"
  },
  "vscode": {
   "interpreter": {
    "hash": "9650350d045222f8879b3274d25ca9df04ce157875f94b7b5dc11bf7e61fb189"
   }
  }
 },
 "nbformat": 4,
 "nbformat_minor": 5
}
